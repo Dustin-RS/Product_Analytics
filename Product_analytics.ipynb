{
 "cells": [
  {
   "cell_type": "markdown",
   "id": "7d896146",
   "metadata": {},
   "source": [
    "### Первая часть задания: Кноверсия\n",
    "Для начала посчитаем доверительный интервал для нашей конверсии, после чего проверим его на статистическую значимость"
   ]
  },
  {
   "cell_type": "markdown",
   "id": "bcda879b",
   "metadata": {},
   "source": [
    "Сначала сделаем необходимые import'ы библиотек"
   ]
  },
  {
   "cell_type": "code",
   "execution_count": 1,
   "id": "b35ca188",
   "metadata": {},
   "outputs": [],
   "source": [
    "import math\n",
    "import numpy as np\n",
    "import pandas as pd"
   ]
  },
  {
   "cell_type": "code",
   "execution_count": 2,
   "id": "888c77ac",
   "metadata": {},
   "outputs": [],
   "source": [
    "def is_stat_important(q1, q2, n1, n2):\n",
    "    right_bound = q2 + (1.96 * math.sqrt(q2) * (1 - q2)) / n2\n",
    "    left_bound = q2 - (1.96 * math.sqrt(q2) * (1 - q2)) / n2\n",
    "    right_bound_diff = (q2 - q1) + 1.96 * math.sqrt((q1*(1-q1))/n1 + (q2*(1-q2))/n2)\n",
    "    left_bound_diff = (q2 - q1) - 1.96 * math.sqrt((q1*(1-q1))/n1 + (q2*(1-q2))/n2)\n",
    "    print(f'Confidence interval for conversion: [{left_bound}; {right_bound}]')\n",
    "    print(f'Confidence interval of difference: [{left_bound_diff}; {right_bound_diff}]')\n",
    "    return np.sign(right_bound_diff) == np.sign(left_bound_diff)"
   ]
  },
  {
   "cell_type": "code",
   "execution_count": 3,
   "id": "25643b45",
   "metadata": {},
   "outputs": [
    {
     "name": "stdout",
     "output_type": "stream",
     "text": [
      "Confidence interval for conversion: [0.12465394245837239; 0.12466605754162763]\n",
      "Confidence interval of difference: [0.0005517136632461343; 0.006308286336753871]\n",
      "Our estimation IS statistical important\n"
     ]
    }
   ],
   "source": [
    "stat_importance_val = \"Our estimation IS statistical important\" \\\n",
    "        if is_stat_important(0.12123, 0.12466, 100000, 100000)\\\n",
    "        else \"Our estimation IS NOT statistical important\"\n",
    "print(stat_importance_val)"
   ]
  },
  {
   "cell_type": "markdown",
   "id": "8a99ca77",
   "metadata": {},
   "source": [
    "Как видно из наших вычилсений, новая конверсия будет лешать в интервале от $[0.12465394245837239; 0.12466605754162763]$. \\\n",
    "Также, видим что наша оценка является статистически значимой, т.к. $0 \\not\\in [0.0005517136632461343; 0.006308286336753871]$"
   ]
  },
  {
   "cell_type": "markdown",
   "id": "2100a3a4",
   "metadata": {},
   "source": [
    "__Вывод__: т.к. наша оценка получилась статистически значимой, и интвервал больше нуля, то значит что группа $B$ показала лучшие результаты, и можно рассмотреть изменения дальше"
   ]
  },
  {
   "cell_type": "markdown",
   "id": "14367b1c",
   "metadata": {},
   "source": [
    "### Вторая часть: Инкрементальная оценка инициатив \n",
    "Теперь посчитаем общую статистику по пользователям и покупателям"
   ]
  },
  {
   "cell_type": "markdown",
   "id": "622410ce",
   "metadata": {},
   "source": [
    "Для расчета данных по какой-то когорте"
   ]
  },
  {
   "cell_type": "code",
   "execution_count": 4,
   "id": "8b929941",
   "metadata": {},
   "outputs": [],
   "source": [
    "def print_df_data(df: pd.DataFrame, name='') -> None:\n",
    "    buyers = df['AOV'].astype(bool).sum(axis=0)\n",
    "    users = df['ID'].astype(bool).sum(axis=0)\n",
    "    buyers_data = df.loc[(df['AOV'].astype(bool) != False)]\n",
    "    avg_payment_cnt = buyers_data.loc[:, 'AVG PAYMENTS COUNT'].mean()\n",
    "    sum_payment = buyers_data.loc[:, 'AVG PAYMENTS COUNT'].sum()\n",
    "    avg_pay = buyers_data.loc[:, 'AOV'].mean()\n",
    "    print(f'DF name: {name}')\n",
    "    print(f'Users: {users}\\tBuyers: {buyers}\\tAOV: {avg_pay}\\tPayments: {sum_payment}\\tavg_payment_cnt: {avg_payment_cnt}')\n"
   ]
  },
  {
   "cell_type": "code",
   "execution_count": 11,
   "id": "58944886",
   "metadata": {},
   "outputs": [],
   "source": [
    "def analysis_for_group():\n",
    "    df = pd.read_csv('DECEMBER_DECEMBER', sep=',', header=0)\n",
    "    print_df_data(df, name='DECEMBER_DECEMBER')\n",
    "\n",
    "    df = pd.read_csv('DECEMBER_JANUARY', sep=',', header=0)\n",
    "    print_df_data(df, name='DECEMBER_JANUARY')\n",
    "\n",
    "    df = pd.read_csv('JANUARY_JANUARY', sep=',', header=0)\n",
    "    print_df_data(df, name='JANUARY_JANUARY')"
   ]
  },
  {
   "cell_type": "code",
   "execution_count": 12,
   "id": "358dada2",
   "metadata": {},
   "outputs": [
    {
     "name": "stdout",
     "output_type": "stream",
     "text": [
      "DF name: DECEMBER_DECEMBER\n",
      "Users: 1000000\tBuyers: 120000\tAOV: 2499.7765458764616\tPayments: 240054.0\tavg_payment_cnt: 2.00045\n",
      "DF name: DECEMBER_JANUARY\n",
      "Users: 417000\tBuyers: 50000\tAOV: 2700.046894243662\tPayments: 99912.0\tavg_payment_cnt: 1.99824\n",
      "DF name: JANUARY_JANUARY\n",
      "Users: 1250000\tBuyers: 150000\tAOV: 2999.3103936139355\tPayments: 299958.0\tavg_payment_cnt: 1.99972\n"
     ]
    }
   ],
   "source": [
    "analysis_for_group()"
   ]
  },
  {
   "attachments": {},
   "cell_type": "markdown",
   "id": "63cfa97f",
   "metadata": {},
   "source": [
    "__Вывод__: Как видно из Инкрементальной оценки инициатив(см. отчет), в случае принятия модели В, наше количество покупателей, возрастет на 5717,81"
   ]
  },
  {
   "cell_type": "markdown",
   "id": "25f1d52e",
   "metadata": {},
   "source": [
    "### Третья часть: TOTAL GMV\n",
    "Все данные уже собраны, теперь осталось посчитать GMV по когортам, и для модели $B$. \\\n",
    "В отчете это все предоставленно, поэтому сдесь будет написан только вывод"
   ]
  },
  {
   "attachments": {},
   "cell_type": "markdown",
   "id": "f55b34e6",
   "metadata": {},
   "source": [
    "__Вывод__: Как видно из отчета, в случае принятие данной модели, наш доход возрастет на 44 495 605,31 или же на 3.46%. \\\n",
    "Однако стоит понимать, что это не чистая прибыль поскольку нужно еще вычесть ФОТ, и уже потом мы полуим чистую прибыль. \n",
    "B итоге, поскольку разница такая колосальная, имеет смысл принять модель $B$"
   ]
  }
 ],
 "metadata": {
  "kernelspec": {
   "display_name": "Python 3 (ipykernel)",
   "language": "python",
   "name": "python3"
  },
  "language_info": {
   "codemirror_mode": {
    "name": "ipython",
    "version": 3
   },
   "file_extension": ".py",
   "mimetype": "text/x-python",
   "name": "python",
   "nbconvert_exporter": "python",
   "pygments_lexer": "ipython3",
   "version": "3.9.12"
  }
 },
 "nbformat": 4,
 "nbformat_minor": 5
}
